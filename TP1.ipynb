{
 "cells": [
  {
   "cell_type": "code",
   "execution_count": 2,
   "metadata": {},
   "outputs": [],
   "source": [
    "import numpy as np\n",
    "import numpy.linalg as npl\n",
    "\n",
    "import scipy as sp\n",
    "import scipy.linalg as spl\n",
    "import scipy.sparse as sps\n",
    "import scipy.sparse.linalg as spsl\n",
    "import matplotlib.pyplot as plt\n",
    "%matplotlib widget\n",
    "\n",
    "pi = np.pi"
   ]
  },
  {
   "cell_type": "markdown",
   "metadata": {},
   "source": [
    "# Introduction EDP : Méthodes différences finies"
   ]
  },
  {
   "cell_type": "markdown",
   "metadata": {},
   "source": [
    "## Equation de Poisson"
   ]
  },
  {
   "cell_type": "markdown",
   "metadata": {},
   "source": [
    "$$-u''(x) = f(x), \\forall x \\in ]0,1[$$"
   ]
  },
  {
   "cell_type": "code",
   "execution_count": 3,
   "metadata": {},
   "outputs": [],
   "source": [
    "def f1(x):\n",
    "    return pi**2 * np.sin(pi * x) \n",
    "\n",
    "def u_exacte_f1(N, u0=0, u1=0):\n",
    "    x = np.linspace(0, 1, N)\n",
    "    return np.sin(pi * x) + (u1-u0)*x + u0"
   ]
  },
  {
   "cell_type": "code",
   "execution_count": 4,
   "metadata": {},
   "outputs": [
    {
     "data": {
      "application/vnd.jupyter.widget-view+json": {
       "model_id": "",
       "version_major": 2,
       "version_minor": 0
      },
      "text/plain": [
       "Canvas(toolbar=Toolbar(toolitems=[('Home', 'Reset original view', 'home', 'home'), ('Back', 'Back to previous …"
      ]
     },
     "metadata": {},
     "output_type": "display_data"
    }
   ],
   "source": [
    "dx = 0.001\n",
    "x = np.arange(0, 1, step=dx)\n",
    "plt.figure()\n",
    "plt.plot(x, f1(x))\n",
    "plt.show()"
   ]
  },
  {
   "cell_type": "code",
   "execution_count": 5,
   "metadata": {},
   "outputs": [],
   "source": [
    "def mat_A(N):\n",
    "    diags = [-1, 2, -1]\n",
    "    return sps.diags(diags, offsets=[-1, 0, 1], shape=[N,N], format=\"csr\")\n",
    "\n",
    "def u_approx(f, N, u0=0, u1=0):\n",
    "    x = np.linspace(0, 1, N+2)[1:-1]\n",
    "    dx = 1/(N+1)\n",
    "    A = mat_A(N)/(dx**2)\n",
    "    c = np.zeros(N)\n",
    "    c[0], c[-1] = u0, u1\n",
    "    \n",
    "    U = spsl.spsolve(A, f(x) + c/(dx**2))\n",
    "    return U"
   ]
  },
  {
   "cell_type": "code",
   "execution_count": 6,
   "metadata": {},
   "outputs": [],
   "source": [
    "def J(n):\n",
    "    return 2**n - 1\n",
    "\n",
    "def extend_vect(vect, u0=0, u1=0):\n",
    "    ext_vect = np.zeros(vect.size+2)\n",
    "    ext_vect[1:-1] = vect\n",
    "    ext_vect[0], ext_vect[-1] = u0, u1\n",
    "    return ext_vect    "
   ]
  },
  {
   "cell_type": "code",
   "execution_count": 7,
   "metadata": {},
   "outputs": [],
   "source": [
    "def approx_sol(n, f, u0=0, u1=0):\n",
    "    N = J(n)\n",
    "    U = u_approx(f, N, u0, u1)\n",
    "    U = extend_vect(U, u0, u1)\n",
    "    return U\n",
    "\n",
    "def plot_sol(U):\n",
    "    N = U.size\n",
    "    x = np.linspace(0, 1, N)\n",
    "    plt.plot(x, U)\n",
    "\n",
    "def plot_range(f, u_exacte, low_bound=3, up_bound=8,\n",
    "                 precision=10000, u0=0, u1=0):\n",
    "    plt.figure()\n",
    "    plot_sol(u_exacte(precision, u0, u1))\n",
    "    \n",
    "    for n in range(low_bound, up_bound):\n",
    "        U = approx_sol(n, f, u0, u1)\n",
    "        plot_sol(U)\n",
    "        \n",
    "    plt.show()"
   ]
  },
  {
   "cell_type": "code",
   "execution_count": 8,
   "metadata": {},
   "outputs": [],
   "source": [
    "def erreur(f, u_exacte, n, ordre=2, u0=0, u1=0):\n",
    "    N = J(n)\n",
    "    U = u_approx(f, N, u0, u1)\n",
    "    U = extend_vect(U, u0, u1)\n",
    "    u = u_exacte(N+2, u0, u1)\n",
    "    e = npl.norm(u - U, ordre)\n",
    "    return e\n",
    "\n",
    "def erreur_range(f, u_exacte, low_bound=3, up_bound=8, u0=0, u1=0):\n",
    "    e2 = []\n",
    "    einf = []\n",
    "    r = range(low_bound, up_bound)\n",
    "    for n in r:\n",
    "        e2.append(erreur(f, u_exacte, n, 2, u0, u1))\n",
    "        einf.append(erreur(f, u_exacte, n, np.inf, u0, u1))\n",
    "        \n",
    "    plt.figure()\n",
    "    plt.semilogy(list(r), e2)\n",
    "    plt.semilogy(list(r), einf)\n",
    "    plt.show()"
   ]
  },
  {
   "cell_type": "code",
   "execution_count": 9,
   "metadata": {},
   "outputs": [
    {
     "data": {
      "application/vnd.jupyter.widget-view+json": {
       "model_id": "",
       "version_major": 2,
       "version_minor": 0
      },
      "text/plain": [
       "Canvas(toolbar=Toolbar(toolitems=[('Home', 'Reset original view', 'home', 'home'), ('Back', 'Back to previous …"
      ]
     },
     "metadata": {},
     "output_type": "display_data"
    }
   ],
   "source": [
    "plot_range(f1, u_exacte_f1, low_bound=3, up_bound=4, u0=0, u1=0)"
   ]
  },
  {
   "cell_type": "code",
   "execution_count": 10,
   "metadata": {},
   "outputs": [
    {
     "data": {
      "application/vnd.jupyter.widget-view+json": {
       "model_id": "",
       "version_major": 2,
       "version_minor": 0
      },
      "text/plain": [
       "Canvas(toolbar=Toolbar(toolitems=[('Home', 'Reset original view', 'home', 'home'), ('Back', 'Back to previous …"
      ]
     },
     "metadata": {},
     "output_type": "display_data"
    }
   ],
   "source": [
    "erreur_range(f1, u_exacte_f1)"
   ]
  },
  {
   "cell_type": "code",
   "execution_count": 11,
   "metadata": {},
   "outputs": [],
   "source": [
    "def f2(x):\n",
    "    return 25 * pi**2 * np.sin(5 * pi * x)\n",
    "\n",
    "def u_exacte_f2(N, u0=0, u1=0):\n",
    "    x = np.linspace(0, 1, N)\n",
    "    return np.sin(5 * pi * x)"
   ]
  },
  {
   "cell_type": "code",
   "execution_count": 12,
   "metadata": {},
   "outputs": [
    {
     "data": {
      "application/vnd.jupyter.widget-view+json": {
       "model_id": "",
       "version_major": 2,
       "version_minor": 0
      },
      "text/plain": [
       "Canvas(toolbar=Toolbar(toolitems=[('Home', 'Reset original view', 'home', 'home'), ('Back', 'Back to previous …"
      ]
     },
     "metadata": {},
     "output_type": "display_data"
    }
   ],
   "source": [
    "plot_range(f2, u_exacte_f2, low_bound=3, up_bound=6)"
   ]
  },
  {
   "cell_type": "code",
   "execution_count": 13,
   "metadata": {},
   "outputs": [
    {
     "data": {
      "application/vnd.jupyter.widget-view+json": {
       "model_id": "",
       "version_major": 2,
       "version_minor": 0
      },
      "text/plain": [
       "Canvas(toolbar=Toolbar(toolitems=[('Home', 'Reset original view', 'home', 'home'), ('Back', 'Back to previous …"
      ]
     },
     "metadata": {},
     "output_type": "display_data"
    }
   ],
   "source": [
    "erreur_range(f2, u_exacte_f2, low_bound=3, up_bound=10)"
   ]
  },
  {
   "cell_type": "code",
   "execution_count": 14,
   "metadata": {},
   "outputs": [],
   "source": [
    "def f3(x):\n",
    "    return np.where(x<0.5, 1, 0)\n",
    "\n",
    "def u_exacte_f3(N, u0=0, u1=0):\n",
    "    x = np.linspace(0, 1, N)\n",
    "    a = 3/8\n",
    "    return np.where(x<0.5, -(x**2)/2 + a*x, (0.25 - a)*x - 0.25 + a)"
   ]
  },
  {
   "cell_type": "code",
   "execution_count": 15,
   "metadata": {},
   "outputs": [
    {
     "data": {
      "application/vnd.jupyter.widget-view+json": {
       "model_id": "",
       "version_major": 2,
       "version_minor": 0
      },
      "text/plain": [
       "Canvas(toolbar=Toolbar(toolitems=[('Home', 'Reset original view', 'home', 'home'), ('Back', 'Back to previous …"
      ]
     },
     "metadata": {},
     "output_type": "display_data"
    }
   ],
   "source": [
    "N = 10000\n",
    "x = np.linspace(0, 1, N)\n",
    "plt.figure()\n",
    "plt.plot(x, f3(x))\n",
    "plt.show()"
   ]
  },
  {
   "cell_type": "code",
   "execution_count": 16,
   "metadata": {},
   "outputs": [
    {
     "data": {
      "application/vnd.jupyter.widget-view+json": {
       "model_id": "",
       "version_major": 2,
       "version_minor": 0
      },
      "text/plain": [
       "Canvas(toolbar=Toolbar(toolitems=[('Home', 'Reset original view', 'home', 'home'), ('Back', 'Back to previous …"
      ]
     },
     "metadata": {},
     "output_type": "display_data"
    }
   ],
   "source": [
    "plot_range(f3, u_exacte_f3, low_bound=3, up_bound=6)"
   ]
  },
  {
   "cell_type": "code",
   "execution_count": 17,
   "metadata": {},
   "outputs": [
    {
     "data": {
      "application/vnd.jupyter.widget-view+json": {
       "model_id": "",
       "version_major": 2,
       "version_minor": 0
      },
      "text/plain": [
       "Canvas(toolbar=Toolbar(toolitems=[('Home', 'Reset original view', 'home', 'home'), ('Back', 'Back to previous …"
      ]
     },
     "metadata": {},
     "output_type": "display_data"
    }
   ],
   "source": [
    "erreur_range(f3, u_exacte_f3, low_bound=3, up_bound=10)"
   ]
  },
  {
   "cell_type": "code",
   "execution_count": 18,
   "metadata": {},
   "outputs": [],
   "source": [
    "plt.close('all')"
   ]
  },
  {
   "cell_type": "markdown",
   "metadata": {},
   "source": [
    "## Exo 2 : Equation de la chaleur"
   ]
  },
  {
   "cell_type": "markdown",
   "metadata": {},
   "source": [
    "### Schéma explicite"
   ]
  },
  {
   "cell_type": "code",
   "execution_count": 31,
   "metadata": {},
   "outputs": [],
   "source": [
    "def u0(x):\n",
    "    return np.sin(pi*x)"
   ]
  },
  {
   "cell_type": "code",
   "execution_count": 32,
   "metadata": {},
   "outputs": [],
   "source": [
    "dx = 0.1\n",
    "dt = 0.002\n",
    "T = 0.7"
   ]
  },
  {
   "cell_type": "code",
   "execution_count": 33,
   "metadata": {},
   "outputs": [],
   "source": [
    "def plot_sharex(dts, sch, dx, T):\n",
    "    n = len(dts)\n",
    "    plt.figure()\n",
    "    for i, dt in enumerate(dts, 1):\n",
    "        U = sch(u0, dt, dx, T)\n",
    "        if i==1:\n",
    "            ax1 = plt.subplot(n, 1, i)\n",
    "            ax = ax1\n",
    "        else:\n",
    "            ax = plt.subplot(n, 1, i, sharex=ax1)\n",
    "        for k in range(len(U)):\n",
    "            p = plt.plot(U[k])\n",
    "        plt.legend([f\"dt = {dt}\"])\n",
    "        plt.setp(ax.get_xticklabels(), visible=i==n)\n",
    "        \n",
    "    plt.show()"
   ]
  },
  {
   "cell_type": "code",
   "execution_count": 36,
   "metadata": {},
   "outputs": [],
   "source": [
    "def sch_explicite(u0, dt, dx=0.1, T=0.2):\n",
    "    N = int(1/dx) - 1\n",
    "    x = np.linspace(0, 1, N+2)\n",
    "    U = [u0(x)]\n",
    "    n = 0\n",
    "    A = dt*mat_A(N+2).toarray()/(dx**2)\n",
    "\n",
    "    while n*dt <= T:\n",
    "        u1 = U[-1] - A.dot(U[-1])\n",
    "        u1[0], u1[-1] = 0, 0\n",
    "        U.append(u1)\n",
    "        n += 1\n",
    "        \n",
    "    return U"
   ]
  },
  {
   "cell_type": "code",
   "execution_count": 37,
   "metadata": {},
   "outputs": [
    {
     "data": {
      "application/vnd.jupyter.widget-view+json": {
       "model_id": "6999bb4030ba403f8e0a16fc45e4eff3",
       "version_major": 2,
       "version_minor": 0
      },
      "text/plain": [
       "Canvas(toolbar=Toolbar(toolitems=[('Home', 'Reset original view', 'home', 'home'), ('Back', 'Back to previous …"
      ]
     },
     "metadata": {},
     "output_type": "display_data"
    }
   ],
   "source": [
    "plot_sharex([0.002, 0.01], sch_explicite, dx=0.1, T=0.5)"
   ]
  },
  {
   "cell_type": "code",
   "execution_count": 42,
   "metadata": {},
   "outputs": [],
   "source": [
    "def sch_implicite(u0, dt, dx=0.1, T=0.2):\n",
    "    N = int(1/dx) - 1\n",
    "    x = np.linspace(0, 1, N+2)\n",
    "    U = [u0(x)]\n",
    "    n = 0\n",
    "    A = dt*mat_A(N+2).toarray()/(dx**2)\n",
    "\n",
    "    while n*dt <= T:\n",
    "        u1 = npl.solve(np.eye(A.shape[0]) + A, U[-1])\n",
    "        u1[0], u1[-1] = 0, 0\n",
    "        U.append(u1)\n",
    "        n += 1\n",
    "        \n",
    "    return U"
   ]
  },
  {
   "cell_type": "code",
   "execution_count": 43,
   "metadata": {},
   "outputs": [
    {
     "data": {
      "application/vnd.jupyter.widget-view+json": {
       "model_id": "9b59a934fca94fde99b398e3575cc9ca",
       "version_major": 2,
       "version_minor": 0
      },
      "text/plain": [
       "Canvas(toolbar=Toolbar(toolitems=[('Home', 'Reset original view', 'home', 'home'), ('Back', 'Back to previous …"
      ]
     },
     "metadata": {},
     "output_type": "display_data"
    }
   ],
   "source": [
    "plot_sharex([0.002, 0.01], sch_implicite, dx=0.1, T=0.5)"
   ]
  },
  {
   "cell_type": "code",
   "execution_count": 26,
   "metadata": {
    "scrolled": true
   },
   "outputs": [
    {
     "data": {
      "application/vnd.jupyter.widget-view+json": {
       "model_id": "",
       "version_major": 2,
       "version_minor": 0
      },
      "text/plain": [
       "Canvas(toolbar=Toolbar(toolitems=[('Home', 'Reset original view', 'home', 'home'), ('Back', 'Back to previous …"
      ]
     },
     "metadata": {},
     "output_type": "display_data"
    },
    {
     "ename": "NameError",
     "evalue": "name 'U' is not defined",
     "output_type": "error",
     "traceback": [
      "\u001b[0;31m---------------------------------------------------------------------------\u001b[0m",
      "\u001b[0;31mNameError\u001b[0m                                 Traceback (most recent call last)",
      "\u001b[0;32m<ipython-input-26-b88d7fbbc905>\u001b[0m in \u001b[0;36m<module>\u001b[0;34m\u001b[0m\n\u001b[1;32m      6\u001b[0m \u001b[0;34m\u001b[0m\u001b[0m\n\u001b[1;32m      7\u001b[0m \u001b[0mx\u001b[0m \u001b[0;34m=\u001b[0m \u001b[0mnp\u001b[0m\u001b[0;34m.\u001b[0m\u001b[0mlinspace\u001b[0m\u001b[0;34m(\u001b[0m\u001b[0;36m0\u001b[0m\u001b[0;34m,\u001b[0m \u001b[0;36m1\u001b[0m\u001b[0;34m,\u001b[0m \u001b[0mN\u001b[0m\u001b[0;34m+\u001b[0m\u001b[0;36m2\u001b[0m\u001b[0;34m)\u001b[0m\u001b[0;34m\u001b[0m\u001b[0;34m\u001b[0m\u001b[0m\n\u001b[0;32m----> 8\u001b[0;31m \u001b[0mline\u001b[0m\u001b[0;34m,\u001b[0m \u001b[0;34m=\u001b[0m \u001b[0max\u001b[0m\u001b[0;34m.\u001b[0m\u001b[0mplot\u001b[0m\u001b[0;34m(\u001b[0m\u001b[0mx\u001b[0m\u001b[0;34m,\u001b[0m \u001b[0mU\u001b[0m\u001b[0;34m[\u001b[0m\u001b[0;36m0\u001b[0m\u001b[0;34m]\u001b[0m\u001b[0;34m)\u001b[0m\u001b[0;34m\u001b[0m\u001b[0;34m\u001b[0m\u001b[0m\n\u001b[0m\u001b[1;32m      9\u001b[0m \u001b[0;34m\u001b[0m\u001b[0m\n\u001b[1;32m     10\u001b[0m \u001b[0;34m\u001b[0m\u001b[0m\n",
      "\u001b[0;31mNameError\u001b[0m: name 'U' is not defined"
     ]
    }
   ],
   "source": [
    "import numpy as np\n",
    "import matplotlib.pyplot as plt\n",
    "import matplotlib.animation as animation\n",
    "\n",
    "fig, ax = plt.subplots()\n",
    "\n",
    "x = np.linspace(0, 1, N+2)\n",
    "line, = ax.plot(x, U[0])\n",
    "\n",
    "\n",
    "def init():  # only required for blitting to give a clean slate.\n",
    "    line.set_ydata([np.nan] * len(x))\n",
    "    return line,\n",
    "\n",
    "\n",
    "def animate(i):\n",
    "    line.set_ydata(U[i]) # update the data.\n",
    "    line.set_label(str(i*dt))\n",
    "    return line,\n",
    "\n",
    "\n",
    "ani = animation.FuncAnimation(\n",
    "    fig, animate, init_func=init, interval=1, blit=True)\n",
    "\n",
    "ani.save('chaleur.gif', writer='imagemagick')\n",
    "plt.show()"
   ]
  },
  {
   "cell_type": "code",
   "execution_count": 27,
   "metadata": {},
   "outputs": [],
   "source": [
    "plt.close('all')"
   ]
  },
  {
   "cell_type": "markdown",
   "metadata": {},
   "source": [
    "## Exercice 3 : Equations de réaction-diffusion"
   ]
  },
  {
   "cell_type": "code",
   "execution_count": 28,
   "metadata": {},
   "outputs": [
    {
     "data": {
      "application/vnd.jupyter.widget-view+json": {
       "model_id": "f279028b5d4c4535b655a325acc12aa7",
       "version_major": 2,
       "version_minor": 0
      },
      "text/plain": [
       "Canvas(toolbar=Toolbar(toolitems=[('Home', 'Reset original view', 'home', 'home'), ('Back', 'Back to previous …"
      ]
     },
     "metadata": {},
     "output_type": "display_data"
    }
   ],
   "source": [
    "def u_init(x, mu=0, sigma2=1):\n",
    "    return ((1/np.sqrt(sigma2*2*pi)) * np.exp(-0.5 * ((x-mu)**2/sigma2)))\n",
    "\n",
    "x = np.linspace(-10, 10, 1000)\n",
    "plt.figure()\n",
    "plt.plot(u_init(x, 0, 5))\n",
    "plt.show()"
   ]
  },
  {
   "cell_type": "code",
   "execution_count": 29,
   "metadata": {},
   "outputs": [
    {
     "data": {
      "application/vnd.jupyter.widget-view+json": {
       "model_id": "3baf89d7f9bf4e2b85823ba5760b00ae",
       "version_major": 2,
       "version_minor": 0
      },
      "text/plain": [
       "Canvas(toolbar=Toolbar(toolitems=[('Home', 'Reset original view', 'home', 'home'), ('Back', 'Back to previous …"
      ]
     },
     "metadata": {},
     "output_type": "display_data"
    }
   ],
   "source": [
    "def u_exacte(t, x):\n",
    "    return 0.5 + 0.5*np.tanh((x + 3*t/np.sqrt(2))/(2*np.sqrt(2)))\n",
    "\n",
    "x = np.linspace(-10, 10, 100)\n",
    "t = np.linspace(0, 5, 25)\n",
    "plt.figure()\n",
    "plt.plot(u_exacte(0, x))\n",
    "plt.plot(u_exacte(1, x))\n",
    "plt.plot(u_exacte(2, x))\n",
    "plt.plot(u_exacte(3, x))\n",
    "plt.show()"
   ]
  },
  {
   "cell_type": "code",
   "execution_count": 30,
   "metadata": {},
   "outputs": [
    {
     "data": {
      "application/vnd.jupyter.widget-view+json": {
       "model_id": "d9f55b9f3bee42f189d81d2b27cc9cc9",
       "version_major": 2,
       "version_minor": 0
      },
      "text/plain": [
       "Canvas(toolbar=Toolbar(toolitems=[('Home', 'Reset original view', 'home', 'home'), ('Back', 'Back to previous …"
      ]
     },
     "metadata": {},
     "output_type": "display_data"
    }
   ],
   "source": [
    "import matplotlib.pyplot as plt\n",
    "from mpl_toolkits.mplot3d import Axes3D\n",
    "fig = plt.figure()\n",
    "ax = fig.add_subplot(111, projection='3d')\n",
    "\n",
    "T, X = np.meshgrid(t, x)\n",
    "\n",
    "ax.plot_wireframe(T, X, u_exacte(T, X))\n",
    "plt.show()"
   ]
  },
  {
   "cell_type": "code",
   "execution_count": 1,
   "metadata": {},
   "outputs": [],
   "source": [
    "def mat_A(N):\n",
    "    diags = [-1, 2, -1]\n",
    "    return sps.diags(diags, offsets=[-1, 0, 1], shape=[N,N], format=\"csr\")\n"
   ]
  },
  {
   "cell_type": "code",
   "execution_count": 47,
   "metadata": {},
   "outputs": [],
   "source": [
    "def sch_impli_expli(u0, dt, dx=0.1, T=0.2, p=2):\n",
    "    N = int(1/dx) - 1\n",
    "    x = np.linspace(0, 1, N+2)\n",
    "    U = [u0(x)]\n",
    "    n = 0\n",
    "    A = mat_A(N+2).toarray()\n",
    "    #modifs de A pour prendre en compte les CLN\n",
    "    A[0, 0], A[-1, -1] = -1, -1\n",
    "\n",
    "    while n*dt <= T:\n",
    "        b = U[-1] + np.power(U[-1], p) + U[-1]/dt\n",
    "        a = np.eye(A.shape[0])/dt - A/(dx**2)\n",
    "        u1 = npl.solve(a, b)\n",
    "        #u1[0], u1[-1] = 0, 0\n",
    "        U.append(u1)\n",
    "        n += 1\n",
    "        \n",
    "    return U"
   ]
  },
  {
   "cell_type": "code",
   "execution_count": 62,
   "metadata": {},
   "outputs": [],
   "source": [
    "U = sch_impli_expli(u_init, 0.002, 0.25, 0.02, 3)"
   ]
  },
  {
   "cell_type": "code",
   "execution_count": 63,
   "metadata": {},
   "outputs": [
    {
     "data": {
      "application/vnd.jupyter.widget-view+json": {
       "model_id": "257e4a948a064ac9a85e2366e38e1754",
       "version_major": 2,
       "version_minor": 0
      },
      "text/plain": [
       "Canvas(toolbar=Toolbar(toolitems=[('Home', 'Reset original view', 'home', 'home'), ('Back', 'Back to previous …"
      ]
     },
     "metadata": {},
     "output_type": "display_data"
    }
   ],
   "source": [
    "plt.figure()\n",
    "for k in range(len(U)):\n",
    "    p = plt.plot(U[k])\n",
    "plt.show()"
   ]
  },
  {
   "cell_type": "code",
   "execution_count": null,
   "metadata": {},
   "outputs": [],
   "source": []
  }
 ],
 "metadata": {
  "kernelspec": {
   "display_name": "Python 3",
   "language": "python",
   "name": "python3"
  },
  "language_info": {
   "codemirror_mode": {
    "name": "ipython",
    "version": 3
   },
   "file_extension": ".py",
   "mimetype": "text/x-python",
   "name": "python",
   "nbconvert_exporter": "python",
   "pygments_lexer": "ipython3",
   "version": "3.7.5"
  },
  "toc-autonumbering": false,
  "toc-showcode": false,
  "toc-showmarkdowntxt": false,
  "toc-showtags": false
 },
 "nbformat": 4,
 "nbformat_minor": 4
}
